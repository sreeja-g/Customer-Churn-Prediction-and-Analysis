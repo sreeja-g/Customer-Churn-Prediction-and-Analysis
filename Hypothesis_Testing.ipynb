{
  "cells": [
    {
      "cell_type": "markdown",
      "metadata": {
        "id": "DtNBZFHO3M7n"
      },
      "source": [
        "# **Customer Churn Prediction and Analysis**\n",
        "**Task: Hypothesis Testing - Statistical Analysis**"
      ]
    },
    {
      "cell_type": "markdown",
      "source": [
        "## **Hypothesis Testing**:\n",
        "A statistical procedure that uses sample data to evaluate an assumption about a population parameter.\n",
        "\n",
        "**Steps for conducting a hypothesis test:**\n",
        "\n",
        "*   State the null hypothesis and the alternative hypothesis.\n",
        "*   Choose a significance level.\n",
        "*   Find the p-value.\n",
        " *  p-value is the probability of observing a difference in your results as or more extreme than the difference observed when the null hypothesis is true\n",
        "*   Reject or fail to reject the null hypothesis.\n",
        "\n",
        "### **Null hypothesis vs Alternative hypothesis**\n",
        "\n",
        "**The null hypothesis has the following characteristics:**\n",
        "\n",
        "*   Null hypothesis is often abbreviated as H sub zero ($H_0$).\n",
        "*   When written in mathematical terms, the null hypothesis always includes an equality symbol (usually =, but sometimes ≤ or ≥).\n",
        "*   Null hypotheses often include phrases such as “no effect,” “no difference,” “no relationship,” or “no change.”\n",
        "* **Claim**: There is no effect in the population.\n",
        "\n",
        "**The alternative hypothesis has the following characteristics:**\n",
        "\n",
        "*   Alternative hypothesis is often abbreviated as H sub a ($H_a$).\n",
        "*   When written in mathematical terms, the alternative hypothesis always includes an inequality symbol (usually ≠, but sometimes < or >).\n",
        "*   Alternative hypotheses often include phrases such as “an effect,” “a difference,” “a relationship,” or “a change.”\n",
        "* **Claim**: There is an effect in the population.\n",
        "\n",
        "### **Type I and type II errors**\n",
        "\n",
        "\\begin{array}{|c|c|} \\hline\n",
        "Action \\backslash H_0 & TRUE & FALSE \\\\ \\hline\n",
        "Reject & Type \\space I \\space (FP) & Correct \\space (TP) \\\\ \\hline\n",
        "Fail \\space to \\space Reject & Correct \\space (TN) & Type \\space II \\space (FN) \\\\ \\hline\n",
        "\\end{array}\n",
        "\n",
        "\n",
        "* Reject the null hypothesis when it’s actually true (**Type I error**)\n",
        "\n",
        "* Reject the null hypothesis when it’s actually false (Correct)\n",
        "\n",
        "* Fail to reject the null hypothesis when it’s actually true (Correct)\n",
        "\n",
        "* Fail to reject the null hypothesis when it’s actually false (**Type II error**)\n",
        "\n",
        "**Type I error:**\n",
        "\n",
        "* A Type 1 error, also known as a false positive, occurs when you reject a null hypothesis that is actually true. In other words, you conclude that your result is statistically significant when in fact it occurred by chance.\n",
        "* The probability of making a Type I error is called alpha (α). Your significance level, or alpha (α), represents the probability of making a Type I error. Typically, the significance level is set at 0.05, or 5%. A significance level of 5% means you are willing to accept a 5% chance you are wrong when you reject the null hypothesis.\n",
        "* To reduce your chance of making a Type I error, choose a lower significance level.\n",
        "\n",
        "**Type II error:**\n",
        "\n",
        "* A Type II error occurs when you fail to reject a null hypothesis which is actually false. In other words, you conclude your result occurred by chance, when in fact it didn’t.\n",
        "* The probability of making a Type II error is called beta (β), and beta is related to the power of a hypothesis test (power = 1- β). Power refers to the likelihood that a test can correctly detect a real effect when there is one.\n",
        "* You can reduce your risk of making a Type II error by ensuring your test has enough power. In data work, power is usually set at 0.80 or 80%. The higher the statistical power, the lower the probability of making a Type II error. To increase power, you can increase your sample size or your significance level.\n",
        "\n"
      ],
      "metadata": {
        "id": "j8QjkMN_mahK"
      }
    },
    {
      "cell_type": "markdown",
      "source": [
        "## **Hypothesis Tests**:\n",
        "\n",
        "### **One-Sample tests:**\n",
        "\n",
        "*  A one-sample test determines whether or not a population parameter, like a mean or proportion, is equal to a specific value.\n",
        "* Example problem, to determine if a company's average sales revenue is equal to a target value.\n",
        "* Most commonly used tests: z-test (test statistic: z-score), t-test (test statistic: t-score)\n",
        "  * The test statistic is a value that shows how closely your observed data matches the distribution expected under the null hypothesis.\n",
        "\n",
        "**One-sample z-test assumptions (mean):**\n",
        "\n",
        "* Sample size > 30\n",
        "* The data is a random sample of a **normally-distributed** population\n",
        "* The population **standard deviation is known**.\n",
        "* Test statistic z-score:\n",
        "\n",
        "\\begin{align}\n",
        "z = \\frac{\\bar{X}-\\mu}{\\frac{σ}{\\sqrt{n}}}\n",
        "\\end{align}\n",
        "\n",
        "* If left tailed test, then p-value is probability of observing test statiistic as low or lower than the z. For right tailed test, as high or higher that observed z score. For two tailed, both.\n",
        "* If p-value < significance level => reject NULL hypothesis. If p-value > significance level => Fail to reject NULL hypothesis. Significance level = 5% = 0.05.\n",
        "\n",
        "**One-sample t-test assumptions:**\n",
        "\n",
        "* Sample size <= 30\n",
        "* The data is a random sample of a **normally-distributed** population\n",
        "* The population **standard deviation is unknown**.\n",
        "* Test statistic t-score:\n",
        "\n",
        "\\begin{align}\n",
        "t = \\frac{\\bar{X}-\\mu}{\\frac{S}{\\sqrt{n}}}\n",
        "\\end{align}\n",
        "\n",
        "**One-sample z-test assumptions (proportion):**\n",
        "\n",
        "* The data are simply random values from the population.\n",
        "* The population follows a binomial distribution.\n",
        "* Both np and n(1-p) values are >= 10, the binomial distribution can be approximated by the normal distribution.\n",
        "\n",
        "* Test statistic z-score:\n",
        "\n",
        "\\begin{align}\n",
        "z = \\frac{\\hat{p}-p}{\\sqrt{\\frac{p(1-p)}{n}}}\n",
        "\\end{align}\n",
        "\n",
        "### **Two-Sample tests:**\n",
        "\n",
        "* A two-sample test determines whether or not two population parameters, such as two means or two proportions, are equal to each other.\n",
        "\n",
        "* $H_0$: There is no difference between the means of both populations.\n",
        "* $H_a$: There is a difference between the means of both populations.\n",
        "\n",
        "**Two-sample z-test**:\n",
        "* The two samples are independent of each other.\n",
        "* For each sample, the data is drawn randomly from a normally distributed population.\n",
        "* The population standard deviation is **known**.\n",
        "* Sample size > 30.\n",
        "* Test statistic z-score:\n",
        "\n",
        "\\begin{align}\n",
        "z = \\frac{\\bar{X_1} - \\bar{X_2}}{\\sqrt{\\frac{σ_1^2}{n_1} + \\frac{σ_2^2}{n_2}}}\n",
        "\\end{align}\n",
        "\n",
        "**Two-sample t-test**:\n",
        "* The two samples are independent of each other.\n",
        "* For each sample, the data is drawn randomly from a normally distributed population.\n",
        "* The population standard deviation is **unknown**.\n",
        "* Sample size < 30.\n",
        "\n",
        "\\begin{align}\n",
        "t = \\frac{\\bar{X_1} - \\bar{X_2}}{\\sqrt{\\frac{{s_1}^2}{n_1} + \\frac{{s_2}^2}{n_2}}}\n",
        "\\end{align}\n",
        "\n",
        "\n",
        "\n",
        "### **A/B test:**\n",
        "\n",
        "* An A/B test (also known as split testing or bucket testing) is a controlled experiment used in marketing, product development, and other fields to compare two or more versions of a product or service. The primary goal of an A/B test is to determine which version performs better in terms of a specific metric or key performance indicator (KPI).\n",
        "\n",
        "* The A/B test involves dividing the users or participants into two (or more) groups: the control group (A) and the experimental group (B). The control group is exposed to the existing version of the product or service, while the experimental group is exposed to a modified version (the variation). The variations can involve changes to the user interface, design, content, pricing, or any other aspect of the product or service being tested.\n",
        "\n",
        "* A typical A/B test has at least three main features:\n",
        "\n",
        " * Test design\n",
        "\n",
        " * Sampling\n",
        "\n",
        " * Hypothesis testing\n",
        "\n",
        "### **Chi-square test:**\n",
        "\n",
        "\\begin{array}{|c|c|} \\hline\n",
        "t \\space tests & \\chi^2 \\\\ \\hline\n",
        "Null \\space \\& \\space Alternative \\space Hypothesis & Null \\space \\& \\space Alternative \\space Hypothesis \\\\ \\hline\n",
        "Continuous \\space Data & Categorical \\space Data \\\\ \\hline\n",
        "\\end{array}\n",
        "\n",
        "**Chi-Squared Goodness of fit test:**\n",
        "* The chi-squared goodness of fit test determines whether an observed categorical variable follows an expected distribution (counts per category).\n",
        "\n",
        "* $H_0$: The variable follows the expected distribution.\n",
        "* $H_a$: The variable does NOT follow the expected distribution.\n",
        "\n",
        "* Test statistic $\\chi^2$:\n",
        "\n",
        "\\begin{align}\n",
        "\\chi^2 = \\sum \\frac{(Observed - Expected)^2}{Expected}\n",
        "\\end{align}\n",
        "\n",
        "**Chi-Squared test of Independence:**\n",
        "* The chi-squared test for independence determines whether or not two categorical variables are associated with each other.\n",
        "\n",
        "* $H_0$: The variables are independent and are not associated with each other.\n",
        "* $H_a$: The variables are NOT independent and are associated with each other.\n",
        "\n",
        "\\begin{array}{|c|c|} \\hline\n",
        " & Var \\space A \\space Type \\space I & Var \\space A \\space Type \\space II & Total \\\\ \\hline\n",
        "Var \\space B \\space Type \\space I & Count_{11} & Count_{12} & R_1 \\\\ \\hline\n",
        "Var \\space B \\space Type \\space II  & Count_{21} & Count_{22} & R_2\\\\ \\hline\n",
        "Total & C_1 & C_2 & T \\\\ \\hline\n",
        "\\end{array}\n",
        "\n",
        "* $Expected_{ij} = E_{ij} = \\frac{R_iC_j}{T}$\n",
        "* $Observed_{ij} = Count_{ij}$\n",
        "\n",
        "* Test statistic $\\chi^2$:\n",
        "\n",
        "\\begin{align}\n",
        "\\chi^2 = \\sum \\frac{(Observed - Expected)^2}{Expected}\n",
        "\\end{align}\n",
        "\n",
        "\n",
        "### **Analysis of Variance (ANOVA) test:**\n",
        "\n",
        "*  Analysis of Variance commonly called ANOVA is a group of statistical techniques that test the difference of means between three or more groups.\n",
        "\n",
        "**One-way ANOVA test:**\n",
        "\n",
        "One-way ANOVA testing compares the means of one continuous dependent variable in three or more groups.\n",
        "\n",
        "* $H_0: \\mu_1 = \\mu_2 = \\space ... \\space = \\mu_N$ i.e., the means of each group are equal.\n",
        "\n",
        "* $H_1: NOT \\space \\mu_1 = \\mu_2 = \\space ... \\space = \\mu_N$ i.e., the means of each group are not all equal.\n",
        "\n",
        "**Two-way ANOVA test:**\n",
        "\n",
        "* Two-way ANOVA testing compares the means of one continuous dependent variable based on three or more groups of two categorical variables.\n",
        "\n",
        "* Two-way ANOVA Hypotheses:\n",
        "\n",
        "\\begin{array}{|c|c|} \\hline\n",
        " & Null \\space Hypothesis \\space (H_0) & Alternative \\space Hypothesis \\space (H_1)\\\\ \\hline\n",
        " Var \\space A & Equal \\space mean \\space X & Not \\space all \\space equal \\space mean \\space X  \\\\ \\hline\n",
        " Var \\space B & Equal \\space mean \\space X & Not \\space all \\space equal \\space mean \\space X \\\\ \\hline\n",
        " Var \\space A \\space \\& \\space Var \\space B  & The \\space effect \\space of \\space A \\space on \\space X  \\space is & Interaction \\space effect  \\\\\n",
        " Interaction \\space Effect & independent \\space of \\space the \\space effect \\space of \\space B \\space and \\space vice \\space versa.  & between \\space A \\space and \\space B \\space on \\space X  \\\\ \\hline\n",
        "\\end{array}\n",
        "\n",
        "* An ANOVA post-hoc test performs a pairwise comparison between all available groups while controlling for the error rate.\n",
        "* The odds that we've made at least one mistake (Type I/Type II error) increases very rapidly the more tests we perform.\n",
        "* One of the most common ANOVA post-hoc test is the Tukey's HSD, honestly significantly different.\n",
        "\n",
        "\n",
        "\n",
        "\n",
        "### **ANCOVA, MANOVA, and MANCOVA:**\n",
        "**Analysis of covariances or ANCOVA:**\n",
        "*  ANCOVA is a statistical technique that compares means between three or more groups while accounting for the effects of one or more continuous covariates.\n",
        "* Null hypothesis or $H_0$: The means of the dependent variable (Y) are equal for all categories of the independent variable (A), regardless of the covariate (Z).\n",
        "* Alternative hypothesis or $H_1$: The means of the dependent variable (Y) are not equal for all categories of the independent variable (A), regardless of the covariate (Z).\n",
        "* Unlike linear regression, ANCOVA focuses on categorical variables and controls for covariates' influence on the dependent variable.\n",
        "\n",
        "**Multi variant analysis of variance or MANOVA:**\n",
        "\n",
        "*  MANOVA is an extension of ANOVA that compares how two or more continuous outcome variables vary based on categorical independent variables.\n",
        "* The two common versions are one-way and two-way MANOVA, where the independent variable must be categorical, and outcome variables must be continuous.\n",
        "* One-way MANOVA:\n",
        "  * $H_0:$ The continuous outcome variables (Y) have the same means for each category of the independent variable (A). The continuous covariate (Z) also has the same means for each category of A.\n",
        "  * $H_1:$ The means of the continuous outcome variables (Y) are not the same for each category of the independent variable (A). The means of the continuous covariate (Z) are also not the same for each category of A.\n",
        "\n",
        "**Multi variant analysis of co variance or MANCOVA:**\n",
        "* MANCOVA extends ANCOVA and MANOVA by comparing how two or more continuous outcome variables vary based on categorical independent variables while controlling for covariates.\n",
        "* $H_0:$ The continuous outcome variables (Y and Z) have the same means for all categories of the independent variable (A), regardless of another continuous variable (X).\n",
        "* $H_1:$ The means of the continuous outcome variables (Y and Z) are not the same for all categories of the independent variable (A), regardless of another continuous variable (X)."
      ],
      "metadata": {
        "id": "QRt7K8m10o_G"
      }
    },
    {
      "cell_type": "markdown",
      "source": [
        "**TO DO: Statistical analysis of ride data based on device type.**\n",
        "\n",
        "  * **QUESTION**: Is there a statistically significant difference in mean amount of rides between iPhone users and Android users? That is, \"Do drivers who open the application using an iPhone have the same number of drives on average as drivers who use Android devices?\"\n",
        "  * **SOLUTION**: conduct a two-sample hypothesis test (t-test) to analyze the difference in the mean amount of rides between iPhone users and Android users.\n"
      ],
      "metadata": {
        "id": "2p4rIbeAkF4g"
      }
    },
    {
      "cell_type": "code",
      "execution_count": null,
      "metadata": {
        "id": "1Q-GL2UrgWWG"
      },
      "outputs": [],
      "source": [
        "import pandas as pd\n",
        "from scipy import stats"
      ]
    },
    {
      "cell_type": "code",
      "execution_count": null,
      "metadata": {
        "id": "2qAt6Upaeg6U"
      },
      "outputs": [],
      "source": [
        "df = pd.read_csv('waze_dataset.csv')"
      ]
    },
    {
      "cell_type": "code",
      "execution_count": null,
      "metadata": {
        "colab": {
          "base_uri": "https://localhost:8080/"
        },
        "id": "PFV0nIWyg4AQ",
        "outputId": "3f20be40-d7e6-4a5e-dbe2-fbef002aa259"
      },
      "outputs": [
        {
          "data": {
            "text/plain": [
              "0    2\n",
              "1    1\n",
              "2    2\n",
              "3    1\n",
              "4    2\n",
              "Name: device_type, dtype: int64"
            ]
          },
          "execution_count": 3,
          "metadata": {},
          "output_type": "execute_result"
        }
      ],
      "source": [
        "map_dictionary = {'Android': 2, 'iPhone': 1}\n",
        "\n",
        "df['device_type'] = df['device']\n",
        "\n",
        "df['device_type'] = df['device_type'].map(map_dictionary)\n",
        "\n",
        "df['device_type'].head()"
      ]
    },
    {
      "cell_type": "code",
      "execution_count": null,
      "metadata": {
        "colab": {
          "base_uri": "https://localhost:8080/"
        },
        "id": "2LGEWrdVXgI2",
        "outputId": "9af851a4-835f-4276-9622-6de005bd756d"
      },
      "outputs": [
        {
          "data": {
            "text/plain": [
              "device_type\n",
              "1    67.859078\n",
              "2    66.231838\n",
              "Name: drives, dtype: float64"
            ]
          },
          "execution_count": 4,
          "metadata": {},
          "output_type": "execute_result"
        }
      ],
      "source": [
        "df.groupby('device_type')['drives'].mean()"
      ]
    },
    {
      "cell_type": "markdown",
      "metadata": {
        "id": "Z_u-zWvGdfII"
      },
      "source": [
        "### Observation:\n",
        "\n",
        "From the averages shown, it appears that drivers who use an iPhone device to interact with the application have a higher number of drives on average. However, this difference might arise from random sampling, rather than being a true difference in the number of drives. To assess whether the difference is statistically significant, we conduct a hypothesis test."
      ]
    },
    {
      "cell_type": "markdown",
      "metadata": {
        "id": "QpFRQDaNzX6p"
      },
      "source": [
        "\n",
        "### **Hypothesis testing**"
      ]
    },
    {
      "cell_type": "markdown",
      "metadata": {
        "id": "7Mn5GJ460HUS"
      },
      "source": [
        "**Note:** This is a t-test for two independent samples. This is the appropriate test since the two groups are independent (Android users vs. iPhone users).\n",
        "\n",
        "**Hypotheses:**\n",
        "\n",
        "$H_0$: There is no difference in average number of drives between drivers who use iPhone devices and drivers who use Androids.\n",
        "\n",
        "$H_A$: There is a difference in average number of drives between drivers who use iPhone devices and drivers who use Androids.\n",
        "\n",
        "Significance level = 5%"
      ]
    },
    {
      "cell_type": "code",
      "execution_count": null,
      "metadata": {
        "colab": {
          "base_uri": "https://localhost:8080/"
        },
        "id": "rdlsXg7Dhbrd",
        "outputId": "2dfaa652-6d8f-48d5-880c-156b51698f34"
      },
      "outputs": [
        {
          "data": {
            "text/plain": [
              "Ttest_indResult(statistic=1.4635232068852353, pvalue=0.1433519726802059)"
            ]
          },
          "execution_count": 5,
          "metadata": {},
          "output_type": "execute_result"
        }
      ],
      "source": [
        "iPhone = df[df['device_type'] == 1]['drives']\n",
        "\n",
        "Android = df[df['device_type'] == 2]['drives']\n",
        "\n",
        "stats.ttest_ind(a=iPhone, b=Android, equal_var=False)"
      ]
    },
    {
      "cell_type": "markdown",
      "metadata": {
        "id": "4cx01KwnTwY7"
      },
      "source": [
        "**Observations:**\n",
        "\n",
        "Since the p-value is larger than the chosen significance level (5%), we fail to reject the null hypothesis. We conclude that there is **not** a statistically significant difference in the average number of drives between drivers who use iPhones and drivers who use Androids."
      ]
    },
    {
      "cell_type": "markdown",
      "metadata": {
        "id": "ItreFaZKhvVw"
      },
      "source": [
        "**Conclusion:**\n",
        "\n",
        "* The key business insight is that drivers who use iPhone devices on average have a similar number of drives as those who use Androids.\n",
        "\n",
        "* One potential next step is to explore what other factors influence the variation in the number of drives, and run additonal hypothesis tests to learn more about user behavior. Further, temporary changes in marketing or user interface for the Waze app may provide more data to investigate churn."
      ]
    }
  ],
  "metadata": {
    "colab": {
      "provenance": []
    },
    "kernelspec": {
      "display_name": "Python 3",
      "language": "python",
      "name": "python3"
    },
    "language_info": {
      "codemirror_mode": {
        "name": "ipython",
        "version": 3
      },
      "file_extension": ".py",
      "mimetype": "text/x-python",
      "name": "python",
      "nbconvert_exporter": "python",
      "pygments_lexer": "ipython3",
      "version": "3.7.6"
    }
  },
  "nbformat": 4,
  "nbformat_minor": 0
}